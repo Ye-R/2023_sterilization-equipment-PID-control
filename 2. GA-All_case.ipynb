{
 "cells": [
  {
   "cell_type": "code",
   "execution_count": null,
   "id": "73707b1e",
   "metadata": {},
   "outputs": [],
   "source": [
    "import pandas as pd\n",
    "import numpy  as np\n",
    "import matplotlib.pyplot as plt\n",
    "import tensorflow as tf\n",
    "from tensorflow import keras\n",
    "import os\n",
    "import random"
   ]
  },
  {
   "cell_type": "code",
   "execution_count": null,
   "id": "8632bc28",
   "metadata": {
    "scrolled": true
   },
   "outputs": [],
   "source": [
    "Data = np.zeros([52, 8])\n",
    "\n",
    "\n",
    "file_dir = './NEW DATA/DOE' # csv위치 폴더\n",
    "file_list = os.listdir(file_dir)\n",
    "\n",
    "for i in range(len(file_list)):\n",
    "    tmp = pd.read_csv(file_dir + '/' + file_list[i])                           # 파일 불러오기\n",
    "    Data[i, :4]   = tmp.iloc[0, 1:]                                            # 초기값(모니터링 변수) 저장\n",
    "    Data[i, 4:-2] = [float(file_list[i][3:6]), float(file_list[i][8:10])]      # P, I값 저장\n",
    "    Data[i, -2] = tmp.shape[0]                                                 # 전체 공정시간 저장 (아마 사용 X)\n",
    "    \n",
    "    idx = np.where(tmp.iloc[:, 0] == 'eSTERILIZATION')[0][0]                   # 멸균 직전 시간까지 index 가져오기\n",
    "    Data[i, -1] = tmp.iloc[:idx, :].shape[0]                                   # 조정단계까지 시간 저장\n",
    "\n",
    "file_dir = './NEW DATA/OTHER' # csv위치 폴더\n",
    "file_list = os.listdir(file_dir)\n",
    "    \n",
    "for i in range(len(file_list)):\n",
    "    tmp = pd.read_csv(file_dir + '/' + file_list[i])                           # 파일 불러오기\n",
    "    Data[i+45, :4]   = tmp.iloc[0, 1:]                                         # 초기값(모니터링 변수) 저장\n",
    "    Data[i+45, 4:-2] = [float(file_list[i][3:6]), float(file_list[i][8:10])]   # P, I값 저장\n",
    "    Data[i+45, -2] = tmp.shape[0]                                              # 전체 공정시간 저장 (아마 사용 X)\n",
    "    \n",
    "    idx = np.where(tmp.iloc[:, 0] == 'eSTERILIZATION')[0][0]                   # 멸균 직전 시간까지 index 가져오기\n",
    "    Data[i+45, -1] = tmp.iloc[:idx, :].shape[0]                                # 조정단계까지 시간 저장\n",
    "    \n",
    "Data = pd.DataFrame(Data, columns = ['Plate Temp', 'Steam Temp', 'Vessel Pressure', 'Vessel Temp', 'P', 'I', 'Total Time', 'ADJ Time'])\n",
    "Data"
   ]
  },
  {
   "cell_type": "code",
   "execution_count": null,
   "id": "c624c4bd",
   "metadata": {
    "scrolled": true
   },
   "outputs": [],
   "source": [
    "Final_Acc = pd.read_csv('./Result/Final_Acc.csv')\n",
    "Final_Acc"
   ]
  },
  {
   "cell_type": "code",
   "execution_count": null,
   "id": "9f83a78a",
   "metadata": {},
   "outputs": [],
   "source": [
    "x1 = np.arange(0.1, 4.1, 0.1)\n",
    "x2 = np.arange(10, 91, 1)\n",
    "\n",
    "PI_value = np.meshgrid(x1,x2)"
   ]
  },
  {
   "cell_type": "code",
   "execution_count": null,
   "id": "ed4d300c",
   "metadata": {},
   "outputs": [],
   "source": [
    "PI_value = np.zeros([x1.shape[0]*x2.shape[0], 2])\n",
    "for i in range(x1.shape[0]):\n",
    "    for j in range(x2.shape[0]):\n",
    "        PI_value[i*x2.shape[0] + j, 0] = x1[i]\n",
    "        PI_value[i*x2.shape[0] + j, 1] = x2[j]"
   ]
  },
  {
   "cell_type": "code",
   "execution_count": null,
   "id": "7841b8c3",
   "metadata": {},
   "outputs": [],
   "source": [
    "PI_value.shape"
   ]
  },
  {
   "cell_type": "code",
   "execution_count": null,
   "id": "dab837ae",
   "metadata": {
    "scrolled": true
   },
   "outputs": [],
   "source": [
    "idx = Final_Acc.sort_values(by='V_MAPE').iloc[0, 0]\n",
    "LoadModel = keras.models.load_model('./Model/Model_%d.h5'%(idx))\n",
    "\n",
    "\n",
    "for i in range(Data.shape[0]):\n",
    "    temp = Data.iloc[i,:4]\n",
    "    Total_value = np.zeros([PI_value.shape[0], 6])\n",
    "    for j in range(PI_value.shape[0]):\n",
    "        Total_value[j, :4] = temp\n",
    "        Total_value[j, 4:] = PI_value[j, :]\n",
    "        \n",
    "    random_thickness = pd.DataFrame(LoadModel.predict(Total_value, verbose=0))\n",
    "    random_thickness_rank = random_thickness.sort_values([0],ascending = True)\n",
    "\n",
    "    print(i+1, ':', random_thickness_rank.iloc[0], Total_value[random_thickness_rank.index[0],4:])"
   ]
  },
  {
   "cell_type": "code",
   "execution_count": null,
   "id": "3ff6fdde",
   "metadata": {
    "scrolled": true
   },
   "outputs": [],
   "source": [
    "pd.concat([ Data.iloc[:,4:6], Data.iloc[:,2:4], Data.iloc[:,:2], Data.iloc[:,-1]], axis = 1)"
   ]
  },
  {
   "cell_type": "code",
   "execution_count": null,
   "id": "c48a06aa",
   "metadata": {
    "scrolled": true
   },
   "outputs": [],
   "source": [
    "Final_Acc.sort_values(by='V_MAPE')"
   ]
  },
  {
   "cell_type": "code",
   "execution_count": null,
   "id": "157dd8a4",
   "metadata": {
    "scrolled": true
   },
   "outputs": [],
   "source": [
    "np.mean(Data.iloc[:,-1])"
   ]
  },
  {
   "cell_type": "code",
   "execution_count": null,
   "id": "cd4f3e66",
   "metadata": {},
   "outputs": [],
   "source": []
  }
 ],
 "metadata": {
  "kernelspec": {
   "display_name": "Python 3 (ipykernel)",
   "language": "python",
   "name": "python3"
  },
  "language_info": {
   "codemirror_mode": {
    "name": "ipython",
    "version": 3
   },
   "file_extension": ".py",
   "mimetype": "text/x-python",
   "name": "python",
   "nbconvert_exporter": "python",
   "pygments_lexer": "ipython3",
   "version": "3.9.15"
  }
 },
 "nbformat": 4,
 "nbformat_minor": 5
}
