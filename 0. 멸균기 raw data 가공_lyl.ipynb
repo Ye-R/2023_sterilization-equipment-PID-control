{
 "cells": [
  {
   "cell_type": "code",
   "execution_count": null,
   "id": "48f1de0a",
   "metadata": {},
   "outputs": [],
   "source": [
    "import pandas as pd\n",
    "import numpy as np\n",
    "import matplotlib.pyplot as plt\n",
    "import datetime\n",
    "import os\n",
    "\n",
    "from tqdm import tqdm\n",
    "import warnings\n",
    "\n",
    "warnings.filterwarnings(action='ignore')"
   ]
  },
  {
   "cell_type": "code",
   "execution_count": null,
   "id": "d55497e8",
   "metadata": {},
   "outputs": [],
   "source": [
    "file_dir = './RAW Data' # csv위치 폴더\n",
    "file_list = os.listdir(file_dir)"
   ]
  },
  {
   "cell_type": "code",
   "execution_count": null,
   "id": "ff5e98c1",
   "metadata": {},
   "outputs": [],
   "source": [
    "save_dir = './NEW Data' # 가공 csv 저장폴더\n",
    "if (os.path.isdir(save_dir)!=True):\n",
    "    os.mkdir(save_dir)\n",
    "    print('directory created')\n",
    "else:\n",
    "    print('directory already exists')"
   ]
  },
  {
   "cell_type": "markdown",
   "id": "5e526052",
   "metadata": {},
   "source": [
    "## 파일 다듬고 저장 -> 최초 실행후에는 불러오기"
   ]
  },
  {
   "cell_type": "code",
   "execution_count": null,
   "id": "da47a87d",
   "metadata": {},
   "outputs": [],
   "source": [
    "tmp = pd.read_csv(os.path.join(file_dir,file_list[0]),header=None) # 피처 이름 임시로 불러오기\n",
    "features = tmp.loc[0][[1,2,3,4,5,20,21,22]].to_list()\n",
    "dp_p = [1,1,2,1,1,1,1] # decimal point position\n",
    "data_list = []\n",
    "cnt = 1\n",
    "# pid 계수 안바꾼 데이터\n",
    "for file_name in file_list:\n",
    "    tmp = pd.read_csv(os.path.join(file_dir,file_name))[features]\n",
    "    for n,pos in enumerate(dp_p):\n",
    "        tmp[features[n+1]] = tmp[features[n+1]] * 10**(-pos) # 소수점 위치 맞춰서 실값으로 표기\n",
    "        tmp = tmp.iloc[:-1,:] # 마지막 출력 Nan 제외\n",
    "    \n",
    "    data_name = 'P1_' + str(cnt) \n",
    "#     if (len(file_name.split('_'))>2):\n",
    "#         print(cnt,file_name.split('_')[2] ) # 특이사항 추가\n",
    "    cnt += 1\n",
    "    data_list.append(data_name)\n",
    "    exec(f'{data_name} = tmp')\n",
    "    \n",
    "    ########## csv 저장코드 - 필요시 활성화\n",
    "    save_name = save_dir +'/'+ data_name + '.csv'\n",
    "    tmp.to_csv(save_name,index=None)\n",
    "    print(save_name)\n",
    "    #########\n"
   ]
  },
  {
   "cell_type": "markdown",
   "id": "c384392c",
   "metadata": {},
   "source": [
    "## 저장 csv 불러오기"
   ]
  },
  {
   "cell_type": "code",
   "execution_count": null,
   "id": "b70f5e68",
   "metadata": {},
   "outputs": [],
   "source": [
    "data_list = [] # 불러오는 코드\n",
    "for i in range(1,100+1):\n",
    "    tmp = pd.read_csv(os.path.join(save_dir, f'P1_{i}.csv'))\n",
    "    exec(f'P1_{i} = tmp')\n",
    "    data_list.append(f'P1_{i}')"
   ]
  }
 ],
 "metadata": {
  "kernelspec": {
   "display_name": "Python 3 (ipykernel)",
   "language": "python",
   "name": "python3"
  },
  "language_info": {
   "codemirror_mode": {
    "name": "ipython",
    "version": 3
   },
   "file_extension": ".py",
   "mimetype": "text/x-python",
   "name": "python",
   "nbconvert_exporter": "python",
   "pygments_lexer": "ipython3",
   "version": "3.9.15"
  }
 },
 "nbformat": 4,
 "nbformat_minor": 5
}
